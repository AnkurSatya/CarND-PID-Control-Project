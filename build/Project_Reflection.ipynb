{
 "cells": [
  {
   "cell_type": "markdown",
   "metadata": {},
   "source": [
    "## Implementation\n"
   ]
  },
  {
   "cell_type": "markdown",
   "metadata": {},
   "source": [
    "The PID implementation was done as taught in the class. The aim was to reduce the cross track error(cte) by reducing the the PID errors.\n",
    "1. P - Proportional error.\n",
    "It directly depends upon the cte.\n",
    "2. I - Integral error.\n",
    "It is proportional to the sum of the past cross track errors.\n",
    "3. D - Derivative error.\n",
    "It depends upon the difference between the present and the immediate past error.\n",
    "\n",
    "The steering angle is calculated by multiplying the PID coefficients with their respective errors.\n",
    "So, the task is to optimize these coefficients."
   ]
  },
  {
   "cell_type": "markdown",
   "metadata": {},
   "source": [
    "## Effect of P,I, and D components"
   ]
  },
  {
   "cell_type": "markdown",
   "metadata": {},
   "source": [
    "1. P Component.\n",
    "The P component tries to bring back the vehicle to the central position by just relying on the cte. If the cte is large, the counter measure given by the P component might result in the overshooting of the center line.\n",
    "2. I component. \n",
    "The use of the I component is to remove any internal bias in the vehicle. The I component did not have any significant effect in my PID implmentation which makes sense as we are running a vehicle in a simulator which is basically bias free, until added explicitly.\n",
    "3. D component.\n",
    "The D component tries to the prevent the overshooting by penalising a large change in the cte in a short amount of time. It might happen due to the counter measure given by the P component. It has a smoothning effect on the vehicle movement."
   ]
  },
  {
   "cell_type": "markdown",
   "metadata": {},
   "source": [
    "## Choosing the Final Hyperparameters."
   ]
  },
  {
   "cell_type": "markdown",
   "metadata": {},
   "source": [
    "The final hyperparameters were chosen in three steps:\n",
    "1. Twiddle.\n",
    "I ran the twiddle algorithm until the sum of the P and D coefficients, Kp and Kd respectively, were not below a threshold value of 0.01. This resulted in the following values\n",
    "Kp = 1.1, Kd = -0.47 \n",
    "Although these values resulted in a complete lap without any error but the sign of the Kd was not correct.\n",
    "\n",
    "2. Twiddle Again\n",
    "So, then I changed the value of Dp(change in value of Kp in twiddle algorithm) to zero which meant that only Kd was being optimized.\n",
    "This resulted in the following value:\n",
    "Kp = 1.1, Kd = 0.25\n",
    "\n",
    "3. Manual Tuning\n",
    "There was still room for improvement. I manually tuned the value of Kd to 1.25 and the performance improved."
   ]
  },
  {
   "cell_type": "code",
   "execution_count": null,
   "metadata": {},
   "outputs": [],
   "source": []
  }
 ],
 "metadata": {
  "kernelspec": {
   "display_name": "Python 3",
   "language": "python",
   "name": "python3"
  },
  "language_info": {
   "codemirror_mode": {
    "name": "ipython",
    "version": 3
   },
   "file_extension": ".py",
   "mimetype": "text/x-python",
   "name": "python",
   "nbconvert_exporter": "python",
   "pygments_lexer": "ipython3",
   "version": "3.6.4"
  }
 },
 "nbformat": 4,
 "nbformat_minor": 2
}
